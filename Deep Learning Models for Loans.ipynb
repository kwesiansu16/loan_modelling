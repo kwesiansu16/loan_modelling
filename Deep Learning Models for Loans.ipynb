{
 "cells": [
  {
   "cell_type": "code",
   "execution_count": 108,
   "metadata": {},
   "outputs": [],
   "source": [
    "#Importing of the datasets\n",
    "import pandas as pd \n",
    "from sklearn.model_selection import train_test_split\n",
    "from sklearn.ensemble import RandomForestClassifier\n",
    "from sklearn.metrics import classification_report, confusion_matrix, accuracy_score\n",
    "\n",
    "import numpy as np\n",
    "%matplotlib inline\n",
    "\n",
    "import itertools\n",
    "import matplotlib.pyplot as plt"
   ]
  },
  {
   "cell_type": "code",
   "execution_count": 109,
   "metadata": {},
   "outputs": [],
   "source": [
    "#dat\n",
    "dataset = pd.read_csv('Data.csv')\n",
    "X = dataset.iloc[:,0:13]\n",
    "Y= dataset.iloc[:,-1]\n",
    "X=dataset.drop(['ID','ZIP Code','Personal Loan'],axis='columns')"
   ]
  },
  {
   "cell_type": "code",
   "execution_count": 110,
   "metadata": {},
   "outputs": [],
   "source": [
    "X_train,X_test,Y_train,Y_test = train_test_split(X,Y,test_size=0.2,random_state=0)"
   ]
  },
  {
   "cell_type": "code",
   "execution_count": 111,
   "metadata": {},
   "outputs": [
    {
     "data": {
      "text/html": [
       "<div>\n",
       "<style scoped>\n",
       "    .dataframe tbody tr th:only-of-type {\n",
       "        vertical-align: middle;\n",
       "    }\n",
       "\n",
       "    .dataframe tbody tr th {\n",
       "        vertical-align: top;\n",
       "    }\n",
       "\n",
       "    .dataframe thead th {\n",
       "        text-align: right;\n",
       "    }\n",
       "</style>\n",
       "<table border=\"1\" class=\"dataframe\">\n",
       "  <thead>\n",
       "    <tr style=\"text-align: right;\">\n",
       "      <th></th>\n",
       "      <th>Age</th>\n",
       "      <th>Experience</th>\n",
       "      <th>Income</th>\n",
       "      <th>Family</th>\n",
       "      <th>CCAvg</th>\n",
       "      <th>Education</th>\n",
       "      <th>Mortgage</th>\n",
       "      <th>Securities Account</th>\n",
       "      <th>CD Account</th>\n",
       "      <th>Online</th>\n",
       "      <th>CreditCard</th>\n",
       "    </tr>\n",
       "  </thead>\n",
       "  <tbody>\n",
       "    <tr>\n",
       "      <th>0</th>\n",
       "      <td>25</td>\n",
       "      <td>1</td>\n",
       "      <td>49</td>\n",
       "      <td>4</td>\n",
       "      <td>1.6</td>\n",
       "      <td>1</td>\n",
       "      <td>0</td>\n",
       "      <td>1</td>\n",
       "      <td>0</td>\n",
       "      <td>0</td>\n",
       "      <td>0</td>\n",
       "    </tr>\n",
       "    <tr>\n",
       "      <th>1</th>\n",
       "      <td>45</td>\n",
       "      <td>19</td>\n",
       "      <td>34</td>\n",
       "      <td>3</td>\n",
       "      <td>1.5</td>\n",
       "      <td>1</td>\n",
       "      <td>0</td>\n",
       "      <td>1</td>\n",
       "      <td>0</td>\n",
       "      <td>0</td>\n",
       "      <td>0</td>\n",
       "    </tr>\n",
       "    <tr>\n",
       "      <th>2</th>\n",
       "      <td>39</td>\n",
       "      <td>15</td>\n",
       "      <td>11</td>\n",
       "      <td>1</td>\n",
       "      <td>1.0</td>\n",
       "      <td>1</td>\n",
       "      <td>0</td>\n",
       "      <td>0</td>\n",
       "      <td>0</td>\n",
       "      <td>0</td>\n",
       "      <td>0</td>\n",
       "    </tr>\n",
       "    <tr>\n",
       "      <th>3</th>\n",
       "      <td>35</td>\n",
       "      <td>9</td>\n",
       "      <td>100</td>\n",
       "      <td>1</td>\n",
       "      <td>2.7</td>\n",
       "      <td>2</td>\n",
       "      <td>0</td>\n",
       "      <td>0</td>\n",
       "      <td>0</td>\n",
       "      <td>0</td>\n",
       "      <td>0</td>\n",
       "    </tr>\n",
       "    <tr>\n",
       "      <th>4</th>\n",
       "      <td>35</td>\n",
       "      <td>8</td>\n",
       "      <td>45</td>\n",
       "      <td>4</td>\n",
       "      <td>1.0</td>\n",
       "      <td>2</td>\n",
       "      <td>0</td>\n",
       "      <td>0</td>\n",
       "      <td>0</td>\n",
       "      <td>0</td>\n",
       "      <td>1</td>\n",
       "    </tr>\n",
       "  </tbody>\n",
       "</table>\n",
       "</div>"
      ],
      "text/plain": [
       "   Age  Experience  Income  Family  CCAvg  Education  Mortgage  \\\n",
       "0   25           1      49       4    1.6          1         0   \n",
       "1   45          19      34       3    1.5          1         0   \n",
       "2   39          15      11       1    1.0          1         0   \n",
       "3   35           9     100       1    2.7          2         0   \n",
       "4   35           8      45       4    1.0          2         0   \n",
       "\n",
       "   Securities Account  CD Account  Online  CreditCard  \n",
       "0                   1           0       0           0  \n",
       "1                   1           0       0           0  \n",
       "2                   0           0       0           0  \n",
       "3                   0           0       0           0  \n",
       "4                   0           0       0           1  "
      ]
     },
     "execution_count": 111,
     "metadata": {},
     "output_type": "execute_result"
    }
   ],
   "source": [
    "X.head()"
   ]
  },
  {
   "cell_type": "code",
   "execution_count": 112,
   "metadata": {},
   "outputs": [
    {
     "data": {
      "text/plain": [
       "0    0\n",
       "1    0\n",
       "2    0\n",
       "3    0\n",
       "4    0\n",
       "Name: Personal Loan, dtype: int64"
      ]
     },
     "execution_count": 112,
     "metadata": {},
     "output_type": "execute_result"
    }
   ],
   "source": [
    "Y.head()"
   ]
  },
  {
   "cell_type": "code",
   "execution_count": 7,
   "metadata": {},
   "outputs": [
    {
     "name": "stdout",
     "output_type": "stream",
     "text": [
      "(4000, 11)\n",
      "(1000, 11)\n",
      "(4000,)\n",
      "(1000,)\n"
     ]
    }
   ],
   "source": [
    "print(X_train.shape)\n",
    "print(X_test.shape)\n",
    "print(Y_train.shape)\n",
    "print(Y_test.shape)"
   ]
  },
  {
   "cell_type": "markdown",
   "metadata": {},
   "source": [
    "# Making use of Deep Learning Keras Sequential Model"
   ]
  },
  {
   "cell_type": "code",
   "execution_count": 113,
   "metadata": {},
   "outputs": [],
   "source": [
    "import tensorflow as tf\n",
    "from tensorflow import keras\n",
    "\n",
    "from tensorflow.keras.models import Sequential\n",
    "from tensorflow.keras.layers import Activation,Dense\n",
    "from tensorflow.keras.optimizers import Adam,Adamax,SGD\n",
    "\n",
    "from tensorflow.keras.metrics import categorical_crossentropy\n",
    "from tensorflow.keras import layers"
   ]
  },
  {
   "cell_type": "code",
   "execution_count": 114,
   "metadata": {},
   "outputs": [],
   "source": [
    "model = Sequential([\n",
    "    Dense(units=22,input_shape=(11,),activation='relu',name=\"layer1\"),\n",
    "    Dense(units=32,activation='relu',name=\"layer2\"),\n",
    "    Dense(units=2,activation='softmax',name=\"layer3\"),\n",
    "    \n",
    "])"
   ]
  },
  {
   "cell_type": "code",
   "execution_count": 115,
   "metadata": {},
   "outputs": [
    {
     "name": "stdout",
     "output_type": "stream",
     "text": [
      "Model: \"sequential_20\"\n",
      "_________________________________________________________________\n",
      "Layer (type)                 Output Shape              Param #   \n",
      "=================================================================\n",
      "layer1 (Dense)               (None, 22)                264       \n",
      "_________________________________________________________________\n",
      "layer2 (Dense)               (None, 32)                736       \n",
      "_________________________________________________________________\n",
      "layer3 (Dense)               (None, 2)                 66        \n",
      "=================================================================\n",
      "Total params: 1,066\n",
      "Trainable params: 1,066\n",
      "Non-trainable params: 0\n",
      "_________________________________________________________________\n"
     ]
    }
   ],
   "source": [
    "model.summary()"
   ]
  },
  {
   "cell_type": "code",
   "execution_count": 116,
   "metadata": {},
   "outputs": [],
   "source": [
    "model.compile(optimizer=Adam(learning_rate=0.0001),loss='sparse_categorical_crossentropy', metrics=[tf.keras.metrics.CategoricalAccuracy()])"
   ]
  },
  {
   "cell_type": "code",
   "execution_count": 117,
   "metadata": {},
   "outputs": [
    {
     "name": "stdout",
     "output_type": "stream",
     "text": [
      "Epoch 1/50\n",
      "4000/4000 - 0s - loss: 9.4876 - categorical_accuracy: 0.0063\n",
      "Epoch 2/50\n",
      "4000/4000 - 0s - loss: 2.4073 - categorical_accuracy: 0.3400\n",
      "Epoch 3/50\n",
      "4000/4000 - 0s - loss: 0.7789 - categorical_accuracy: 0.7930\n",
      "Epoch 4/50\n",
      "4000/4000 - 0s - loss: 0.6175 - categorical_accuracy: 0.8965\n",
      "Epoch 5/50\n",
      "4000/4000 - 0s - loss: 0.5109 - categorical_accuracy: 0.9150\n",
      "Epoch 6/50\n",
      "4000/4000 - 0s - loss: 0.4348 - categorical_accuracy: 0.9305\n",
      "Epoch 7/50\n",
      "4000/4000 - 0s - loss: 0.3881 - categorical_accuracy: 0.9358\n",
      "Epoch 8/50\n",
      "4000/4000 - 0s - loss: 0.3603 - categorical_accuracy: 0.9498\n",
      "Epoch 9/50\n",
      "4000/4000 - 0s - loss: 0.3378 - categorical_accuracy: 0.9383\n",
      "Epoch 10/50\n",
      "4000/4000 - 0s - loss: 0.3203 - categorical_accuracy: 0.9398\n",
      "Epoch 11/50\n",
      "4000/4000 - 0s - loss: 0.3064 - categorical_accuracy: 0.9505\n",
      "Epoch 12/50\n",
      "4000/4000 - 0s - loss: 0.2940 - categorical_accuracy: 0.9465\n",
      "Epoch 13/50\n",
      "4000/4000 - 0s - loss: 0.2846 - categorical_accuracy: 0.9553\n",
      "Epoch 14/50\n",
      "4000/4000 - 0s - loss: 0.2739 - categorical_accuracy: 0.9565\n",
      "Epoch 15/50\n",
      "4000/4000 - 0s - loss: 0.2676 - categorical_accuracy: 0.9560\n",
      "Epoch 16/50\n",
      "4000/4000 - 0s - loss: 0.2611 - categorical_accuracy: 0.9630\n",
      "Epoch 17/50\n",
      "4000/4000 - 0s - loss: 0.2572 - categorical_accuracy: 0.9590\n",
      "Epoch 18/50\n",
      "4000/4000 - 0s - loss: 0.2520 - categorical_accuracy: 0.9647\n",
      "Epoch 19/50\n",
      "4000/4000 - 0s - loss: 0.2491 - categorical_accuracy: 0.9628\n",
      "Epoch 20/50\n",
      "4000/4000 - 0s - loss: 0.2468 - categorical_accuracy: 0.9653\n",
      "Epoch 21/50\n",
      "4000/4000 - 0s - loss: 0.2416 - categorical_accuracy: 0.9635\n",
      "Epoch 22/50\n",
      "4000/4000 - 0s - loss: 0.2427 - categorical_accuracy: 0.9657\n",
      "Epoch 23/50\n",
      "4000/4000 - 0s - loss: 0.2386 - categorical_accuracy: 0.9678\n",
      "Epoch 24/50\n",
      "4000/4000 - 0s - loss: 0.2379 - categorical_accuracy: 0.9710\n",
      "Epoch 25/50\n",
      "4000/4000 - 0s - loss: 0.2346 - categorical_accuracy: 0.9660\n",
      "Epoch 26/50\n",
      "4000/4000 - 0s - loss: 0.2326 - categorical_accuracy: 0.9653\n",
      "Epoch 27/50\n",
      "4000/4000 - 0s - loss: 0.2314 - categorical_accuracy: 0.9680\n",
      "Epoch 28/50\n",
      "4000/4000 - 0s - loss: 0.2298 - categorical_accuracy: 0.9657\n",
      "Epoch 29/50\n",
      "4000/4000 - 0s - loss: 0.2292 - categorical_accuracy: 0.9695\n",
      "Epoch 30/50\n",
      "4000/4000 - 0s - loss: 0.2252 - categorical_accuracy: 0.9663\n",
      "Epoch 31/50\n",
      "4000/4000 - 0s - loss: 0.2246 - categorical_accuracy: 0.9672\n",
      "Epoch 32/50\n",
      "4000/4000 - 0s - loss: 0.2238 - categorical_accuracy: 0.9665\n",
      "Epoch 33/50\n",
      "4000/4000 - 0s - loss: 0.2206 - categorical_accuracy: 0.9660\n",
      "Epoch 34/50\n",
      "4000/4000 - 0s - loss: 0.2203 - categorical_accuracy: 0.9697\n",
      "Epoch 35/50\n",
      "4000/4000 - 0s - loss: 0.2170 - categorical_accuracy: 0.9665\n",
      "Epoch 36/50\n",
      "4000/4000 - 0s - loss: 0.2163 - categorical_accuracy: 0.9613\n",
      "Epoch 37/50\n",
      "4000/4000 - 0s - loss: 0.2138 - categorical_accuracy: 0.9675\n",
      "Epoch 38/50\n",
      "4000/4000 - 0s - loss: 0.2134 - categorical_accuracy: 0.9635\n",
      "Epoch 39/50\n",
      "4000/4000 - 0s - loss: 0.2151 - categorical_accuracy: 0.9640\n",
      "Epoch 40/50\n",
      "4000/4000 - 0s - loss: 0.2106 - categorical_accuracy: 0.9620\n",
      "Epoch 41/50\n",
      "4000/4000 - 0s - loss: 0.2092 - categorical_accuracy: 0.9572\n",
      "Epoch 42/50\n",
      "4000/4000 - 0s - loss: 0.2087 - categorical_accuracy: 0.9585\n",
      "Epoch 43/50\n",
      "4000/4000 - 0s - loss: 0.2049 - categorical_accuracy: 0.9638\n",
      "Epoch 44/50\n",
      "4000/4000 - 0s - loss: 0.2038 - categorical_accuracy: 0.9597\n",
      "Epoch 45/50\n",
      "4000/4000 - 0s - loss: 0.2020 - categorical_accuracy: 0.9615\n",
      "Epoch 46/50\n",
      "4000/4000 - 0s - loss: 0.2006 - categorical_accuracy: 0.9580\n",
      "Epoch 47/50\n",
      "4000/4000 - 0s - loss: 0.1988 - categorical_accuracy: 0.9650\n",
      "Epoch 48/50\n",
      "4000/4000 - 0s - loss: 0.1987 - categorical_accuracy: 0.9597\n",
      "Epoch 49/50\n",
      "4000/4000 - 0s - loss: 0.1962 - categorical_accuracy: 0.9600\n",
      "Epoch 50/50\n",
      "4000/4000 - 0s - loss: 0.1979 - categorical_accuracy: 0.9528\n"
     ]
    },
    {
     "data": {
      "text/plain": [
       "<tensorflow.python.keras.callbacks.History at 0x162b9502f48>"
      ]
     },
     "execution_count": 117,
     "metadata": {},
     "output_type": "execute_result"
    }
   ],
   "source": [
    "model.fit(X_train,Y_train,batch_size=64,epochs=50,shuffle=True,verbose=2)"
   ]
  },
  {
   "cell_type": "code",
   "execution_count": 118,
   "metadata": {},
   "outputs": [
    {
     "name": "stdout",
     "output_type": "stream",
     "text": [
      "Evaluate on test data\n",
      "1000/1000 [==============================] - 0s 144us/sample - loss: 0.1819 - categorical_accuracy: 0.9400\n",
      "test loss, test acc: [0.18192931033670903, 0.94]\n",
      "Generate predictions for 3 samples\n",
      "predictions shape: (3, 2)\n"
     ]
    }
   ],
   "source": [
    "# Evaluate the model on the test data using `evaluate`\n",
    "print(\"Evaluate on test data\")\n",
    "results = model.evaluate(X_test, Y_test, batch_size=20)\n",
    "print(\"test loss, test acc:\", results)\n",
    "\n",
    "# Generate predictions (probabilities -- the output of the last layer)\n",
    "# on new data using `predict`\n",
    "print(\"Generate predictions for 3 samples\")\n",
    "predictions = model.predict(X_test[:3])\n",
    "print(\"predictions shape:\", predictions.shape)"
   ]
  },
  {
   "cell_type": "code",
   "execution_count": 104,
   "metadata": {},
   "outputs": [],
   "source": [
    "model2 = Sequential([\n",
    "    Dense(units=15,input_shape=(11,),activation='relu',name=\"layer1\"),\n",
    "    Dense(units=32,activation='relu',name=\"layer2\"),\n",
    "    Dense(units=28,activation='sigmoid',name=\"layer3\"),\n",
    "    Dense(units=4,activation='sigmoid',name=\"layer4\"),\n",
    "    \n",
    "])"
   ]
  },
  {
   "cell_type": "code",
   "execution_count": 105,
   "metadata": {},
   "outputs": [
    {
     "name": "stdout",
     "output_type": "stream",
     "text": [
      "Model: \"sequential_19\"\n",
      "_________________________________________________________________\n",
      "Layer (type)                 Output Shape              Param #   \n",
      "=================================================================\n",
      "layer1 (Dense)               (None, 15)                180       \n",
      "_________________________________________________________________\n",
      "layer2 (Dense)               (None, 32)                512       \n",
      "_________________________________________________________________\n",
      "layer3 (Dense)               (None, 28)                924       \n",
      "_________________________________________________________________\n",
      "layer4 (Dense)               (None, 4)                 116       \n",
      "=================================================================\n",
      "Total params: 1,732\n",
      "Trainable params: 1,732\n",
      "Non-trainable params: 0\n",
      "_________________________________________________________________\n"
     ]
    }
   ],
   "source": [
    "model2.summary()"
   ]
  },
  {
   "cell_type": "code",
   "execution_count": 106,
   "metadata": {},
   "outputs": [],
   "source": [
    "model2.compile(optimizer=SGD(learning_rate=0.01),loss='sparse_categorical_crossentropy',metrics=['accuracy'])"
   ]
  },
  {
   "cell_type": "code",
   "execution_count": 107,
   "metadata": {},
   "outputs": [
    {
     "name": "stdout",
     "output_type": "stream",
     "text": [
      "Epoch 1/50\n",
      "4000/4000 - 0s - loss: 0.5882 - acc: 0.8930\n",
      "Epoch 2/50\n",
      "4000/4000 - 0s - loss: 0.3470 - acc: 0.9025\n",
      "Epoch 3/50\n",
      "4000/4000 - 0s - loss: 0.3157 - acc: 0.9025\n",
      "Epoch 4/50\n",
      "4000/4000 - 0s - loss: 0.2974 - acc: 0.9025\n",
      "Epoch 5/50\n",
      "4000/4000 - 0s - loss: 0.2832 - acc: 0.9025\n",
      "Epoch 6/50\n",
      "4000/4000 - 0s - loss: 0.2739 - acc: 0.9025\n",
      "Epoch 7/50\n",
      "4000/4000 - 0s - loss: 0.2665 - acc: 0.9025\n",
      "Epoch 8/50\n",
      "4000/4000 - 0s - loss: 0.2585 - acc: 0.9025\n",
      "Epoch 9/50\n",
      "4000/4000 - 0s - loss: 0.2547 - acc: 0.9025\n",
      "Epoch 10/50\n",
      "4000/4000 - 0s - loss: 0.2504 - acc: 0.9025\n",
      "Epoch 11/50\n",
      "4000/4000 - 0s - loss: 0.2450 - acc: 0.9025\n",
      "Epoch 12/50\n",
      "4000/4000 - 0s - loss: 0.2425 - acc: 0.9025\n",
      "Epoch 13/50\n",
      "4000/4000 - 0s - loss: 0.2362 - acc: 0.9025\n",
      "Epoch 14/50\n",
      "4000/4000 - 0s - loss: 0.2314 - acc: 0.9025\n",
      "Epoch 15/50\n",
      "4000/4000 - 0s - loss: 0.2305 - acc: 0.9025\n",
      "Epoch 16/50\n",
      "4000/4000 - 0s - loss: 0.2294 - acc: 0.9025\n",
      "Epoch 17/50\n",
      "4000/4000 - 0s - loss: 0.2265 - acc: 0.9025\n",
      "Epoch 18/50\n",
      "4000/4000 - 0s - loss: 0.2227 - acc: 0.9025\n",
      "Epoch 19/50\n",
      "4000/4000 - 0s - loss: 0.2206 - acc: 0.9025\n",
      "Epoch 20/50\n",
      "4000/4000 - 0s - loss: 0.2205 - acc: 0.9025\n",
      "Epoch 21/50\n",
      "4000/4000 - 0s - loss: 0.2192 - acc: 0.9025\n",
      "Epoch 22/50\n",
      "4000/4000 - 0s - loss: 0.2162 - acc: 0.9025\n",
      "Epoch 23/50\n",
      "4000/4000 - 0s - loss: 0.2163 - acc: 0.9025\n",
      "Epoch 24/50\n",
      "4000/4000 - 0s - loss: 0.2134 - acc: 0.9025\n",
      "Epoch 25/50\n",
      "4000/4000 - 0s - loss: 0.2100 - acc: 0.9025\n",
      "Epoch 26/50\n",
      "4000/4000 - 0s - loss: 0.2119 - acc: 0.9025\n",
      "Epoch 27/50\n",
      "4000/4000 - 0s - loss: 0.2096 - acc: 0.9025\n",
      "Epoch 28/50\n",
      "4000/4000 - 0s - loss: 0.2091 - acc: 0.9025\n",
      "Epoch 29/50\n",
      "4000/4000 - 0s - loss: 0.2084 - acc: 0.9025\n",
      "Epoch 30/50\n",
      "4000/4000 - 0s - loss: 0.2091 - acc: 0.9025\n",
      "Epoch 31/50\n",
      "4000/4000 - 0s - loss: 0.2073 - acc: 0.9025\n",
      "Epoch 32/50\n",
      "4000/4000 - 0s - loss: 0.2059 - acc: 0.9025\n",
      "Epoch 33/50\n",
      "4000/4000 - 0s - loss: 0.2042 - acc: 0.9025\n",
      "Epoch 34/50\n",
      "4000/4000 - 0s - loss: 0.2022 - acc: 0.9025\n",
      "Epoch 35/50\n",
      "4000/4000 - 0s - loss: 0.2040 - acc: 0.9025\n",
      "Epoch 36/50\n",
      "4000/4000 - 0s - loss: 0.2038 - acc: 0.9025\n",
      "Epoch 37/50\n",
      "4000/4000 - 0s - loss: 0.2013 - acc: 0.9025\n",
      "Epoch 38/50\n",
      "4000/4000 - 0s - loss: 0.2045 - acc: 0.9025\n",
      "Epoch 39/50\n",
      "4000/4000 - 0s - loss: 0.1996 - acc: 0.9025\n",
      "Epoch 40/50\n",
      "4000/4000 - 0s - loss: 0.2041 - acc: 0.9025\n",
      "Epoch 41/50\n",
      "4000/4000 - 0s - loss: 0.2003 - acc: 0.9025\n",
      "Epoch 42/50\n",
      "4000/4000 - 0s - loss: 0.2025 - acc: 0.9025\n",
      "Epoch 43/50\n",
      "4000/4000 - 0s - loss: 0.2014 - acc: 0.9025\n",
      "Epoch 44/50\n",
      "4000/4000 - 0s - loss: 0.1972 - acc: 0.9025\n",
      "Epoch 45/50\n",
      "4000/4000 - 0s - loss: 0.1997 - acc: 0.9025\n",
      "Epoch 46/50\n",
      "4000/4000 - 0s - loss: 0.2030 - acc: 0.9025\n",
      "Epoch 47/50\n",
      "4000/4000 - 0s - loss: 0.2007 - acc: 0.9025\n",
      "Epoch 48/50\n",
      "4000/4000 - 0s - loss: 0.1984 - acc: 0.9025\n",
      "Epoch 49/50\n",
      "4000/4000 - 0s - loss: 0.1989 - acc: 0.9025\n",
      "Epoch 50/50\n",
      "4000/4000 - 0s - loss: 0.1965 - acc: 0.9025\n"
     ]
    },
    {
     "data": {
      "text/plain": [
       "<tensorflow.python.keras.callbacks.History at 0x162b9268ec8>"
      ]
     },
     "execution_count": 107,
     "metadata": {},
     "output_type": "execute_result"
    }
   ],
   "source": [
    "model2.fit(X_train,Y_train,batch_size=12,epochs=50,shuffle=True,verbose=2)"
   ]
  },
  {
   "cell_type": "code",
   "execution_count": 87,
   "metadata": {},
   "outputs": [
    {
     "name": "stdout",
     "output_type": "stream",
     "text": [
      "Evaluate on test data\n",
      "1000/1000 [==============================] - 0s 97us/sample - loss: 0.1858 - acc: 0.9100\n",
      "test loss, test acc: [0.18581857822835446, 0.91]\n",
      "Generate predictions for 3 samples\n",
      "predictions shape: (3, 2)\n"
     ]
    }
   ],
   "source": [
    "# Evaluate the model on the test data using `evaluate`\n",
    "print(\"Evaluate on test data\")\n",
    "results = model2.evaluate(X_test, Y_test, batch_size=20)\n",
    "print(\"test loss, test acc:\", results)\n",
    "\n",
    "# Generate predictions (probabilities -- the output of the last layer)\n",
    "# on new data using `predict`\n",
    "print(\"Generate predictions for 3 samples\")\n",
    "predictions = model2.predict(X_test[:3])\n",
    "print(\"predictions shape:\", predictions.shape)"
   ]
  },
  {
   "cell_type": "code",
   "execution_count": null,
   "metadata": {},
   "outputs": [],
   "source": [
    "model3 = Sequential([\n",
    "    Dense(units=16,input_shape=(11,),activation='relu',name=\"layer1\"),\n",
    "    Dense(units=32,activation='relu',name=\"layer2\"),\n",
    "    Dense(units=28,activation='sigmoid',name=\"layer3\"),\n",
    "    Dense(units=4,activation='sigmoid',name=\"layer4\"),\n",
    "    \n",
    "])"
   ]
  }
 ],
 "metadata": {
  "kernelspec": {
   "display_name": "Python 3",
   "language": "python",
   "name": "python3"
  },
  "language_info": {
   "codemirror_mode": {
    "name": "ipython",
    "version": 3
   },
   "file_extension": ".py",
   "mimetype": "text/x-python",
   "name": "python",
   "nbconvert_exporter": "python",
   "pygments_lexer": "ipython3",
   "version": "3.7.6"
  }
 },
 "nbformat": 4,
 "nbformat_minor": 4
}
